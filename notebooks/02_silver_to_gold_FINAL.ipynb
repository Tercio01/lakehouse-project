{
 "cells": [
  {
   "cell_type": "markdown",
   "metadata": {},
   "source": [
    "# 🎯 Transformação: Silver to Gold\n",
    "## Caminhos absolutos corrigidos"
   ]
  },
  {
   "cell_type": "code",
   "execution_count": null,
   "metadata": {},
   "outputs": [],
   "source": [
    "from pyspark.sql import SparkSession\n",
    "from pyspark.sql.functions import sum, count, avg, max, min, countDistinct, when, col\n",
    "import os\n",
    "\n",
    "# Configurar Spark\n",
    "spark = SparkSession.builder \\\n",
    "    .appName(\"Silver to Gold Transformations\") \\\n",
    "    .getOrCreate()\n",
    "\n",
    "# CAMINHOS ABSOLUTOS CORRETOS\n",
    "base_path = \"/home/jovyan/data/\"\n",
    "silver_path = base_path + \"silver/\"\n",
    "gold_path = base_path + \"gold/\"\n",
    "\n",
    "print(\"📁 Verificando estrutura de diretórios...\")\n",
    "print(\"Diretório atual:\", os.getcwd())\n",
    "print(\"Conteúdo de data:\", os.listdir(base_path))\n",
    "print(\"Conteúdo de silver:\", os.listdir(silver_path))\n",
    "\n",
    "# Garantir que diretório gold existe\n",
    "os.makedirs(gold_path, exist_ok=True)\n",
    "print(\"✅ Diretório gold preparado!\")"
   ]
  },
  {
   "cell_type": "markdown",
   "metadata": {},
   "source": [
    "## 1. Ler dados da camada Silver"
   ]
  },
  {
   "cell_type": "code",
   "execution_count": null,
   "metadata": {},
   "outputs": [],
   "source": [
    "# Ler dados Silver\n",
    "orders_silver = spark.read.parquet(f\"{silver_path}orders\")\n",
    "customers_silver = spark.read.parquet(f\"{silver_path}customers\")\n",
    "products_silver = spark.read.parquet(f\"{silver_path}products\")\n",
    "\n",
    "print(\"✅ Dados Silver carregados:\")\n",
    "print(f\"Orders: {orders_silver.count()} registros\")\n",
    "print(f\"Customers: {customers_silver.count()} registros\")\n",
    "print(f\"Products: {products_silver.count()} registros\")\n",
    "\n",
    "print(\"\\n📋 Amostra de Orders:\")\n",
    "orders_silver.show(3)\n",
    "orders_silver.printSchema()"
   ]
  },
  {
   "cell_type": "markdown",
   "metadata": {},
   "source": [
    "## 2. Análise de Vendas por Cliente"
   ]
  },
  {
   "cell_type": "code",
   "execution_count": null,
   "metadata": {},
   "outputs": [],
   "source": [
    "# Vendas por cliente\n",
    "sales_by_customer = orders_silver \\\n",
    "    .groupBy(\"customer_id\") \\\n",
    "    .agg(\n",
    "        sum(\"order_amount\").alias(\"total_gasto\"),\n",
    "        count(\"order_id\").alias(\"total_pedidos\"),\n",
    "        avg(\"order_amount\").alias(\"valor_medio_pedido\"),\n",
    "        max(\"order_amount\").alias(\"maior_valor_pedido\"),\n",
    "        min(\"order_date\").alias(\"primeira_compra\"),\n",
    "        max(\"order_date\").alias(\"ultima_compra\")\n",
    "    )\n",
    "\n",
    "print(\"✅ Vendas por cliente calculadas!\")\n",
    "sales_by_customer.show(5)"
   ]
  },
  {
   "cell_type": "markdown",
   "metadata": {},
   "source": [
    "## 3. Análise de Vendas por Categoria"
   ]
  },
  {
   "cell_type": "code",
   "execution_count": null,
   "metadata": {},
   "outputs": [],
   "source": [
    "sales_by_category = orders_silver \\\n",
    "    .join(products_silver, \"product_id\") \\\n",
    "    .groupBy(\"product_category\") \\\n",
    "    .agg(\n",
    "        sum(\"order_amount\").alias(\"faturamento_total\"),\n",
    "        sum(\"quantity\").alias(\"unidades_vendidas\"),\n",
    "        countDistinct(\"order_id\").alias(\"pedidos_unicos\"),\n",
    "        avg(\"order_amount\").alias(\"ticket_medio\")\n",
    "    ) \\\n",
    "    .orderBy(col(\"faturamento_total\").desc())\n",
    "\n",
    "print(\"✅ Vendas por categoria calculadas!\")\n",
    "sales_by_category.show()"
   ]
  },
  {
   "cell_type": "markdown",
   "metadata": {},
   "source": [
    "## 4. Customer 360 (Visão Completa)"
   ]
  },
  {
   "cell_type": "code",
   "execution_count": null,
   "metadata": {},
   "outputs": [],
   "source": [
    "customer_360 = customers_silver \\\n",
    "    .join(sales_by_customer, \"customer_id\", \"left\") \\\n",
    "    .withColumn(\"segmento_cliente\", \n",
    "               when(col(\"total_gasto\") > 5000, \"VIP\")\n",
    "               .when(col(\"total_gasto\") > 2000, \"Premium\")\n",
    "               .otherwise(\"Standard\")) \\\n",
    "    .withColumn(\"frequencia_compra\", \n",
    "               when(col(\"total_pedidos\") > 10, \"Alta\")\n",
    "               .when(col(\"total_pedidos\") > 5, \"Média\")\n",
    "               .otherwise(\"Baixa\"))\n",
    "\n",
    "print(\"✅ Customer 360 criado!\")\n",
    "customer_360.show(5)"
   ]
  },
  {
   "cell_type": "markdown",
   "metadata": {},
   "source": [
    "## 5. Escrever na camada Gold"
   ]
  },
  {
   "cell_type": "code",
   "execution_count": null,
   "metadata": {},
   "outputs": [],
   "source": [
    "# Escrever tabelas Gold\n",
    "sales_by_customer.write.format(\"parquet\").mode(\"overwrite\").save(f\"{gold_path}vendas_por_cliente\")\n",
    "sales_by_category.write.format(\"parquet\").mode(\"overwrite\").save(f\"{gold_path}vendas_por_categoria\")\n",
    "customer_360.write.format(\"parquet\").mode(\"overwrite\").save(f\"{gold_path}customer_360\")\n",
    "\n",
    "print(\"✅ Tabelas Gold criadas com sucesso!\")"
   ]
  },
  {
   "cell_type": "markdown",
   "metadata": {},
   "source": [
    "## 6. Verificação Final"
   ]
  },
  {
   "cell_type": "code",
   "execution_count": null,
   "metadata": {},
   "outputs": [],
   "source": [
    "# Verificar criação das tabelas\n",
    "print(\"📊 Tabelas criadas na camada Gold:\")\n",
    "gold_files = os.listdir(gold_path)\n",
    "for file in gold_files:\n",
    "    df = spark.read.parquet(f\"{gold_path}{file}\")\n",
    "    print(f\"{file}: {df.count()} registros\")\n",
    "\n",
    "print(\"\\n🎯 Resumo das vendas por categoria:\")\n",
    "spark.read.parquet(f\"{gold_path}vendas_por_categoria\").show()\n",
    "\n",
    "print(\"\\n✅ Transformação Silver → Gold concluída com sucesso!\")"
   ]
  },
  {
   "cell_type": "markdown",
   "metadata": {},
   "source": [
    "## 7. Visualização dos Resultados"
   ]
  },
  {
   "cell_type": "code",
   "execution_count": null,
   "metadata": {},
   "outputs": [],
   "source": [
    "# Instalar bibliotecas de visualização se necessário\n",
    "try:\n",
    "    import matplotlib.pyplot as plt\n",
    "    import seaborn as sns\n",
    "except:\n",
    "    print(\"Instalando bibliotecas de visualização...\")\n",
    "    !pip install matplotlib seaborn\n",
    "    import matplotlib.pyplot as plt\n",
    "    import seaborn as sns\n",
    "\n",
    "# Converter para Pandas\n",
    "sales_category_pd = spark.read.parquet(f\"{gold_path}vendas_por_categoria\").toPandas()\n",
    "\n",
    "print(\"📈 Visualização - Faturamento por Categoria\")\n",
    "\n",
    "plt.figure(figsize=(12, 6))\n",
    "sns.barplot(x='product_category', y='faturamento_total', data=sales_category_pd)\n",
    "plt.title('Faturamento por Categoria de Produto')\n",
    "plt.xlabel('Categoria')\n",
    "plt.ylabel('Faturamento Total')\n",
    "plt.xticks(rotation=45)\n",
    "plt.tight_layout()\n",
    "plt.show()\n",
    "\n",
    "print(\"🎉 Análise e visualização concluídas!\")"
   ]
  }
 ],
 "metadata": {
  "kernelspec": {
   "display_name": "Python 3",
   "language": "python",
   "name": "python3"
  },
  "language_info": {
   "name": "python",
   "version": "3.8.0"
  }
 },
 "nbformat": 4,
 "nbformat_minor": 4
}
